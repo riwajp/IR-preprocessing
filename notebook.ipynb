{
 "cells": [
  {
   "cell_type": "markdown",
   "id": "002e4c96",
   "metadata": {},
   "source": [
    "This notebook pre-processes a dataset of news from some nepali news websites (in english language)."
   ]
  },
  {
   "cell_type": "markdown",
   "id": "29fe3ced",
   "metadata": {},
   "source": [
    "Install necessary libraries."
   ]
  },
  {
   "cell_type": "code",
   "execution_count": 1,
   "id": "4d7b6d75",
   "metadata": {},
   "outputs": [
    {
     "name": "stdout",
     "output_type": "stream",
     "text": [
      "Requirement already satisfied: nltk in ./.venv/lib64/python3.13/site-packages (3.9.1)\n",
      "Requirement already satisfied: click in ./.venv/lib64/python3.13/site-packages (from nltk) (8.2.1)\n",
      "Requirement already satisfied: joblib in ./.venv/lib64/python3.13/site-packages (from nltk) (1.5.0)\n",
      "Requirement already satisfied: regex>=2021.8.3 in ./.venv/lib64/python3.13/site-packages (from nltk) (2024.11.6)\n",
      "Requirement already satisfied: tqdm in ./.venv/lib64/python3.13/site-packages (from nltk) (4.67.1)\n",
      "Note: you may need to restart the kernel to use updated packages.\n"
     ]
    }
   ],
   "source": [
    "%pip install nltk"
   ]
  },
  {
   "cell_type": "markdown",
   "id": "e091f40d",
   "metadata": {},
   "source": [
    "Download nltk's corpus for English stopwords and model for lemmatization."
   ]
  },
  {
   "cell_type": "code",
   "execution_count": 2,
   "id": "cae73e60",
   "metadata": {},
   "outputs": [
    {
     "name": "stderr",
     "output_type": "stream",
     "text": [
      "[nltk_data] Downloading package stopwords to /home/riwaj/nltk_data...\n",
      "[nltk_data]   Package stopwords is already up-to-date!\n",
      "[nltk_data] Downloading package wordnet to /home/riwaj/nltk_data...\n",
      "[nltk_data]   Package wordnet is already up-to-date!\n"
     ]
    },
    {
     "data": {
      "text/plain": [
       "True"
      ]
     },
     "execution_count": 2,
     "metadata": {},
     "output_type": "execute_result"
    }
   ],
   "source": [
    "import nltk\n",
    "nltk.download('stopwords')\n",
    "nltk.download('wordnet')\n"
   ]
  },
  {
   "cell_type": "markdown",
   "id": "4ae82349",
   "metadata": {},
   "source": [
    "Import functions from utils and other necessary libraries."
   ]
  },
  {
   "cell_type": "code",
   "execution_count": 3,
   "id": "3abdff10",
   "metadata": {},
   "outputs": [],
   "source": [
    "import utils\n",
    "import csv"
   ]
  },
  {
   "cell_type": "markdown",
   "id": "10d58980",
   "metadata": {},
   "source": [
    "Set the file paths for input and output."
   ]
  },
  {
   "cell_type": "code",
   "execution_count": 4,
   "id": "7e25a248",
   "metadata": {},
   "outputs": [],
   "source": [
    "input_file = 'dataset.csv'\n",
    "output_file = 'processed_dataset.csv'"
   ]
  },
  {
   "cell_type": "markdown",
   "id": "ec41963d",
   "metadata": {},
   "source": [
    "Preview raw dataset's content."
   ]
  },
  {
   "cell_type": "code",
   "execution_count": 5,
   "id": "fa1ebcd7",
   "metadata": {},
   "outputs": [
    {
     "name": "stdout",
     "output_type": "stream",
     "text": [
      "KATHMANDU, MARCH 13 Prime Minister KP Sharma Oli has extended warm greetings and best wishes on the occasion of Phagu Poornima or Holi to all Nepalis living at home and abroad. Taking to his social media account, he has expressed his best wishes to all Nepali brothers and sisters, calling the festival of joy and enthusiasm also as Basantaotsav and Madanotsav. Stating that Phagu Poornima is celebrated during full moon of the spring season and considered the day of the renaissance of nature, Prime Minister Oli has said in his facebook page, \"Best wishes to everyone on the occasion of Phagu Poornima, the festival of joy and enthusiasm. Happy Holi!\"\n",
      "KATHMANDU, FEBRUARY 20 Five separate reports were presented on Tuesday at the Nepali Congress (NC) Mahasamiti Meeting, which commenced on Monday in Godavari, Lalitpur. According to the NC, party Vice President and Deputy Prime Minister Purna Bahadur Khadka shared the Policy Report, while General Secretary Gagan Thapa tabled the Organizational Proposal. Likewise, another General Secretary, Bishow Prakash Sharma, shared the Contemporary Political Report, and NC Spokesperson and Finance Minister Dr. Prakash Sharan Mahat presented the Report on Nepal's Present Economic Status, Possibilities, and Future Course. Similarly, Accounts Committee Coordinator Shyam Kumar Ghimire tabled the party's Audit Report, outlining the state of the party's economic status, sources of income, and expenses. In his report, Vice President Khadka proposed that the Mahasamiti Meeting should make decisions to address the questions and difficulties emerging at the national level and within the party's internal affairs. General Secretary Thapa called for making the party a torchbearer of social transformation and linking it to the social movement. He added that the NC's organization should be strengthened to contest the upcoming polls without forming electoral alliances with other parties. General Secretary Sharma emphasized that the NC has the responsibility to work for the country and its people while maintaining the existing ruling alliance, given that no single party holds a majority in parliament. Spokesperson Dr. Mahat stated that the NC remains committed to ensuring social security and advocated for the party to embrace the ideals of democratic socialism. The reports will be discussed starting Wednesday, as per the NC's announcement.\n",
      "KATHMANDU, SEPTEMBER 21 Thousands of public school teachers continued their Kathmandu centric protest today as well for the second day expressing dissatisfaction with some of the provisions in the School Education Bill registered at the House of Representatives. Thousands of teachers across the country have come to the capital upon the call from Nepal Teachers' Federation to protest against the Bill. Participants gathered around Maitighar area at 10:00am and marched to Baneshwor. Like yesterday, agitated teachers obstructed road segments for hours affecting traffic in the area for almost the whole day until the teachers finally returned. The NTF had asked all the teachers to join the protest after rejecting the call for dialogue from the Minister of Education, Science and Technology. Today, the NTF members held meeting with Education Minister Ashok Rai and Home Minister Narayan Kaji Shrestha. Butthe teachers' representative came out of the meeting. They have said that they will not sit for discussion until the Bill is withdrawn from the HoR. Teachers have majorly demanded that the provisions allowing the local government to take charge of school management, teachers' appointment, school principal's appointment, teachers' transfer, demotion and dismissal be amended. They have demanded that all these roles be handled by the federal government like issues of civil servants. Although the government had previously agreed to these demands, the Bill registered at the HoR does not include them. Teachers have accused the government of cheating them in this regard and deliberately bringing these provisions. Teachers have said that allowing the local governments to appoint teachers will not guarantee competence of teachers and more of them are likely to become political cadres. The protest has affected studies in over 26,000 public schools and over 5.50 million students across the country. A version of this article appears in the print on September 22, 2023, of The Himalayan Times.\n"
     ]
    }
   ],
   "source": [
    "with open(input_file, 'r', encoding='utf-8') as file:\n",
    "    reader = list(csv.DictReader(file))\n",
    "  \n",
    "    print(reader[22].get('Content', ''))\n",
    "    print(reader[33].get('Content', ''))\n",
    "    print(reader[44].get('Content', ''))"
   ]
  },
  {
   "cell_type": "markdown",
   "id": "79dfbd1e",
   "metadata": {},
   "source": [
    "Run the preprocessing process on the dataset."
   ]
  },
  {
   "cell_type": "code",
   "execution_count": 6,
   "id": "9af47240",
   "metadata": {},
   "outputs": [
    {
     "name": "stdout",
     "output_type": "stream",
     "text": [
      "Output saved to processed_dataset.csv\n"
     ]
    }
   ],
   "source": [
    "with open(input_file, 'r', encoding='utf-8') as raw_data, open(output_file, 'w', newline='', encoding='utf-8') as outfile:\n",
    "    reader = csv.DictReader(raw_data)\n",
    "    fieldnames = reader.fieldnames + ['Processed']\n",
    "    writer = csv.DictWriter(outfile, fieldnames=fieldnames)\n",
    "    writer.writeheader()\n",
    "\n",
    "    for row in reader:\n",
    "        content = row.get('Content', '')\n",
    "        text = utils.clean_text(content)\n",
    "        tokens = utils.tokenize(text)\n",
    "        tokens = utils.remove_stopwords(tokens)\n",
    "        tokens = utils.lemmatize(tokens)\n",
    "        tokens = utils.porter_stem(tokens)\n",
    "        \n",
    "        row['Processed'] = \" \".join(tokens)\n",
    "        writer.writerow(row)\n",
    "\n",
    "print(f\"Output saved to {output_file}\")"
   ]
  },
  {
   "cell_type": "markdown",
   "id": "2de11a6e",
   "metadata": {},
   "source": [
    "Preview pre-processed content."
   ]
  },
  {
   "cell_type": "code",
   "execution_count": 7,
   "id": "a8dd8439",
   "metadata": {},
   "outputs": [
    {
     "name": "stdout",
     "output_type": "stream",
     "text": [
      "kathmandu march prime minister kp sharma oli extend warm greet best wish occasion phagu poornima holi nepali liv home abroad tak social medium account express best wish nepali brother sister call festival joy enthusiasm also basantaotsav madanotsav stat phagu poornima celebrat full moon spr season consider day renaissance nature prime minister oli said facebook page best wish everyone occasion phagu poornima festival joy enthusiasm happy holi\n",
      "kathmandu february five separate report present tuesday nepali congres nc mahasamiti meet commenc monday godavari lalitpur accord nc party vice president deputy prime minister purna bahadur khadka shar policy report general secretary gagan thapa tabl organizational proposal likewise another general secretary bishow prakash sharma shar contemporary political report nc spokesperson finance minister dr prakash sharan mahat present report nepal present economic statu possibility future course similar account committee coordinator shyam kumar ghimire tabl party audit report outlin state party economic statu source income expense report vice president khadka propos mahasamiti meet make decision addres question difficulty emerg national level within party internal affair general secretary thapa call mak party torchbearer social transformation link social move add nc organization strengthen contest upcom poll without form electoral alliance party general secretary sharma emphasiz nc responsibility work country people maintain exist rul alliance given single party hold majority parlia spokesperson dr mahat stat nc remain committ ensur social security advocat party embrace ideal democratic socialism report discuss start wednesday per nc announce\n",
      "kathmandu september thousand public school teacher continu kathmandu centric protest today well second day express dissatisfaction provision school education bill register house representat thousand teacher acros country come capital upon call nepal teacher federation protest bill participant gather around maitighar area march baneshwor like yesterday agitat teacher obstruct road seg hour affect traffic area almost whole day teacher final return ntf ask teacher join protest reject call dialogue minister education science technology today ntf member held meet education minister ashok rai home minister narayan kaji shrestha butthe teacher representat came meet said sit discussion bill withdrawn hor teacher major demand provision allow local govern take charge school manage teacher appoint school principal appoint teacher transfer demotion dismissal amend demand role handl federal govern like issue civil servant although govern previous agre demand bill register hor include teacher accus govern cheat regard deliberate bring provision teacher said allow local govern appoint teacher guarantee competence teacher like become political cadre protest affect study public school million student acros country version article appear print september himalayan time\n"
     ]
    }
   ],
   "source": [
    "with open(output_file, 'r', encoding='utf-8') as file:\n",
    "    reader = list(csv.DictReader(file))\n",
    "  \n",
    "    print(reader[22].get('Processed', ''))\n",
    "    print(reader[33].get('Processed', ''))\n",
    "    print(reader[44].get('Processed', ''))"
   ]
  }
 ],
 "metadata": {
  "kernelspec": {
   "display_name": ".venv",
   "language": "python",
   "name": "python3"
  },
  "language_info": {
   "codemirror_mode": {
    "name": "ipython",
    "version": 3
   },
   "file_extension": ".py",
   "mimetype": "text/x-python",
   "name": "python",
   "nbconvert_exporter": "python",
   "pygments_lexer": "ipython3",
   "version": "3.13.3"
  }
 },
 "nbformat": 4,
 "nbformat_minor": 5
}
